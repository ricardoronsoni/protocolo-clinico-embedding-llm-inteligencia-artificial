{
 "cells": [
  {
   "attachments": {},
   "cell_type": "markdown",
   "metadata": {},
   "source": [
    "# Importações"
   ]
  },
  {
   "cell_type": "code",
   "execution_count": 2,
   "metadata": {},
   "outputs": [
    {
     "name": "stderr",
     "output_type": "stream",
     "text": [
      "[nltk_data] Downloading package punkt to\n",
      "[nltk_data]     /Users/ricardoronsoni/nltk_data...\n",
      "[nltk_data]   Package punkt is already up-to-date!\n"
     ]
    }
   ],
   "source": [
    "import os\n",
    "import glob\n",
    "import PyPDF2\n",
    "import re\n",
    "import nltk\n",
    "nltk.download('punkt')\n",
    "from transformers import AutoTokenizer\n",
    "from langchain.embeddings import HuggingFaceInstructEmbeddings\n",
    "from langchain.vectorstores import FAISS\n",
    "from typing import List"
   ]
  },
  {
   "attachments": {},
   "cell_type": "markdown",
   "metadata": {},
   "source": [
    "# Configurações"
   ]
  },
  {
   "cell_type": "code",
   "execution_count": 3,
   "metadata": {},
   "outputs": [],
   "source": [
    "# Diretório com os arquivos PDF de PCDT\n",
    "diretorio_pdf = \"./pcdt\"\n",
    "\n",
    "# Quantidade máxima de tokens no embedding\n",
    "qtd_max_tokens = 512\n",
    "\n",
    "# Sobreposição de frases entre embeddings\n",
    "sobreposicao_frases = 1\n",
    "\n",
    "# String para determinar a partir de qual parte o PCDT não terá mais o seu texto carregado\n",
    "ignorar_restante_pcdt = \"REFERÊNCIAS\"\n",
    "\n",
    "# Padrão Regex para recuperar o nome do PCDT na primeira página do documento\n",
    "padrao_nome_pcdt = r\"Terapêuticas – (.*?)\\.\"\n",
    "\n",
    "# Titulo dos tópicos dos PCDT\n",
    "titulo_topicos = [\"METODOLOGIA\",\n",
    "    \"INTRODUÇÃO\",\n",
    "    \"CLASSIFICAÇÃO ESTATÍSTICA INTERNACIONAL DE DOENÇAS\",\n",
    "    \"DIAGNÓSTICO\",\n",
    "    \"CRITÉRIOS DE INCLUSÃO\",\n",
    "    \"CRITÉRIOS DE EXCLUSÃO\",\n",
    "    \"CASOS ESPECIAIS\",\n",
    "    \"TRATAMENTO\",\n",
    "    \"FÁRMACOS\",\n",
    "    \"ESQUEMAS DE ADMINISTRAÇÃO\",\n",
    "    \"TEMPO DE TRATAMENTO\",\n",
    "    \"BENEFÍCIOS ESPERADOS\",\n",
    "    \"MONITORIZAÇÃO\",\n",
    "    \"REGULAÇÃO/CONTROLE/AVALIAÇÃO PELO GESTOR\",\n",
    "    \"TERMO DE ESCLARECIMENTO E RESPONSABILIDADE\"]\n",
    "\n",
    "# Projeto do modelo de embedding\n",
    "modelo = \"intfloat/multilingual-e5-large\"\n",
    "\n",
    "# Diretório cache modelos\n",
    "diretorio_cache_modelo = \"./llm/\""
   ]
  },
  {
   "attachments": {},
   "cell_type": "markdown",
   "metadata": {},
   "source": [
    "# Importar arquivos PDF"
   ]
  },
  {
   "cell_type": "code",
   "execution_count": 4,
   "metadata": {},
   "outputs": [
    {
     "name": "stdout",
     "output_type": "stream",
     "text": [
      "Arquivos localizados para processamento:\n",
      "1- Síndrome de Turner.pdf\n",
      "2- Doença de Alzheimer.pdf\n"
     ]
    }
   ],
   "source": [
    "# Listar todos os arquivos PDF no diretório\n",
    "arquivos_pdf = glob.glob(f\"{diretorio_pdf}/*.pdf\")\n",
    "\n",
    "# Extrair apenas o nome dos arquivos\n",
    "nomes_arquivos_pdf = [os.path.basename(arquivo) for arquivo in arquivos_pdf]\n",
    "\n",
    "# Listar os arquivos PDF localizados\n",
    "print(\"Arquivos localizados para processamento:\")\n",
    "for i, nome_arquivo in enumerate(nomes_arquivos_pdf, start=1):\n",
    "    print(f\"{i}- {nome_arquivo}\")"
   ]
  },
  {
   "attachments": {},
   "cell_type": "markdown",
   "metadata": {},
   "source": [
    "# Extrair texto PDF"
   ]
  },
  {
   "cell_type": "code",
   "execution_count": 5,
   "metadata": {},
   "outputs": [
    {
     "name": "stdout",
     "output_type": "stream",
     "text": [
      "Textos extraídos:\n",
      "Síndrome de Turner: MINISTÉRIO DA SAÚDE SECRETARIA DE ATENÇÃ O À SAÚDE SECRETARIA DE CIÊNCI A, TECNOLOGIA E INSU MOS ESTRATÉGICOS PORTARIA CONJUNTA Nº 15, DE 09 DE MAIO DE 201 8 Aprova o Protocolo Clínico e Diretrizes Terapêuticas da Síndrome de Turner. O SECRETÁRIO DE ...\n",
      "Doença de Alzheimer: MINISTÉRIO DA SAÚDE SECRETARIA DE ATENÇÃO À SAÚDE PORTARIA CONJUNTA Nº 13, DE 28 DE NOVEMBRO DE 2017. Aprova o Protocolo Clínico e Diretrizes Terapêuticas da Doença de A lzheimer. . O SECRETÁRIO DE ATENÇÃO À SAÚDE e o SECRETÁRIO DE CIÊNCIA , TECNOLOG...\n"
     ]
    }
   ],
   "source": [
    "# Obter o nome do PCDT na primeira página\n",
    "def obter_nome_pcdt(texto):\n",
    "    resultado = \"\"\n",
    "    texto = texto.replace(\"\\n\", \" \")\n",
    "    resultado = re.findall(padrao_nome_pcdt, texto)\n",
    "\n",
    "    # Tratamento para PDF com textos distintos na primeira página\n",
    "    if len(resultado) > 1:\n",
    "        nome_pcdt = str(resultado[0]).strip()\n",
    "    else:\n",
    "        nome_pcdt = str(resultado)[2:-2].strip()\n",
    "\n",
    "    nome_pcdt = \" \".join(resultado[0].split())\n",
    "\n",
    "    return nome_pcdt\n",
    "\n",
    "# Ler os PDF e extrair os conteúdos\n",
    "def extrair_texto_pdf(pdf):\n",
    "    texto = \"\"\n",
    "    nome_pcdt = \"\"\n",
    "    leitor_pdf = PyPDF2.PdfReader(pdf)\n",
    "\n",
    "    # Passar por todas as páginas de um arquivo pdf\n",
    "    for i, pagina in enumerate(leitor_pdf.pages):\n",
    "        texto_pagina = pagina.extract_text()\n",
    "        texto_higienizado = \" \".join(texto_pagina.split())\n",
    "        \n",
    "        # Se for a primeira página irá verificar o nome do PCDT\n",
    "        if i == 0:\n",
    "            nome_pcdt = obter_nome_pcdt(texto_higienizado)\n",
    "\n",
    "        # Parar a leitura do PCDT se localizar a string de parada\n",
    "        if ignorar_restante_pcdt in texto_higienizado:\n",
    "            indice_ignorar = texto_higienizado.index(ignorar_restante_pcdt)\n",
    "            texto_higienizado = texto_higienizado[:indice_ignorar + len(ignorar_restante_pcdt)]\n",
    "\n",
    "        texto += texto_higienizado\n",
    "\n",
    "        if ignorar_restante_pcdt in texto_pagina:\n",
    "            break\n",
    "\n",
    "    return nome_pcdt, texto\n",
    "\n",
    "texto_extraido = []\n",
    "for pdf in arquivos_pdf:\n",
    "    nome_pcdt, texto = extrair_texto_pdf(pdf)\n",
    "    texto_extraido.append({nome_pcdt: texto})\n",
    "\n",
    "# Exibir os conteúdos dos PCDT lidos. Textos truncados com 250 caracteres para preservar a visualização do notebook\n",
    "print(\"Textos extraídos:\")\n",
    "for item in texto_extraido:\n",
    "    for chave, valor in item.items():\n",
    "        print(f\"{chave}: {valor[:250] + '...'}\")"
   ]
  },
  {
   "attachments": {},
   "cell_type": "markdown",
   "metadata": {},
   "source": [
    "# Criar embeddings"
   ]
  },
  {
   "cell_type": "code",
   "execution_count": 6,
   "metadata": {},
   "outputs": [
    {
     "name": "stdout",
     "output_type": "stream",
     "text": [
      "[[{'topic_content': 'query: Protocolo Clínico e Diretrizes Terapêuticas (PCDT) de Síndrome de Turner. INTRODUÇÃO A síndrome de Turner é a anormalidade dos cromossomos sexuais mais comum nas mulheres, ocorrendo em 1 a cada 1.500 -2.500 crianças do sexo feminino nascidas vivas (1). A constituição cromossômica pode ser ausência de um cromossomo X (cariótipo 45,X), mosaicismo cromossômico (cariótipo 45,X/46,XX), além de outras anomalias estruturais do cromossomo X. As anormalidades típicas da síndrome de Turner incluem baixa estatura, disgenesia gonadal que leva a um quadro de falha do desenvolvimento puberal e infertilidade, além de uma série de outras alterações fenotípicas como pescoço alado, linha posterior de implantação dos cabelos baixa, fácies típica, tórax alargado com aumento da distância entre os mamilos, linfedema e cúbito valgo. Associa - se frequentemente a quadros de tireoidite autoimune com ou sem hipotireoidismo, anormalidades renais e cardiovasculares que variam de malformações graves como coarctação de aorta, com grande morbimortalidade, até quadros mais leves como válvula aórtica bicúspide. Alterações auditivas e deficiência cognitiva em algumas atividades, especialmente cálculos e inteligência espacial, são observadas nessa população, embora a inteligência média seja considerada normal (2-5). Baixa estatura é o achado mais consistente da síndrome de Turner. Caracteristicamente , há retardo leve do crescimento na fase intrauterina, redução progressiva da velocidade de crescimento durante a infância e uma marcada ausência de crescimento na fase puberal (6). Pacientes com síndrome de Turner não tratada apresentam alturas médias muito inferiores ao limite da normalidade (136 a 147 cm), resultados que variam de acordo com a origem genética familiar (7).', 'metadata': {'source': 'Síndrome de Turner', 'topic': 'INTRODUÇÃO'}}, {'topic_content': 'query: Protocolo Clínico e Diretrizes Terapêuticas (PCDT) de Síndrome de Turner. INTRODUÇÃO. Pacientes com síndrome de Turner não tratada apresentam alturas médias muito inferiores ao limite da normalidade (136 a 147 cm), resultados que variam de acordo com a origem genética familiar (7). A iden tificação da doença em seu estágio inicial e o encaminhamento ágil e adequado para o atendimento especializado dão à Atenção Bás ica um caráter essencial para um melhor resultado terapêutico e prognóstico dos casos. Este Protocolo visa a estabelecer os critérios diagnósticos e terapêuticos da síndrome de Turner. A metodologia de busca e avaliação das evidências estão detalhadas no Apêndice 1 .', 'metadata': {'source': 'Síndrome de Turner', 'topic': 'INTRODUÇÃO'}}], [{'topic_content': 'query: Protocolo Clínico e Diretrizes Terapêuticas (PCDT) de Síndrome de Turner. CLASSIFICAÇÃO ESTATÍSTICA INTERNACIONAL DE DOENÇAS E PROBLEMAS RELACIONADOS À SAÚDE (CID -10) - Q96.0 Cariótipo 45,X - Q96.1 Cariótipo 46,X iso - Q96.2 Cariótipo 46,X com cromossomo sexual anormal, salvo iso - Q96.3 Mosaicismo cromossômico, 45, X/46, XX ou XY - Q96.4 Mosaicismo cromossômico, 45, X/outras linhagens celulares com cromossomo sexual anormal - Q96.8 Outras variantes da síndrome de Turner 3.', 'metadata': {'source': 'Síndrome de Turner', 'topic': 'CLASSIFICAÇÃO ESTATÍSTICA INTERNACIONAL DE DOENÇAS'}}], [{'topic_content': 'query: Protocolo Clínico e Diretrizes Terapêuticas (PCDT) de Síndrome de Turner. DIAGNÓSTICO O diagnóstico clínico da síndrome de Turner inclui as características fenotípi cas já descritas, mas a variabilidade do fenótipo pode variar desde baixa estatura isolada até a presença das várias malformações associadas. Dessa forma, o cariótipo é o exame diagnóstico definitivo (1, 3, 4, 8). A monossomia do cromossomo X (45X) é a forma mais frequentemente encontrada, mas também confirmam o diagnóstico o isocromossomo Xq, mosaicismos, deleções Xp e cromossomo X em anel, entre outros (3).4.', 'metadata': {'source': 'Síndrome de Turner', 'topic': 'DIAGNÓSTICO'}}], [{'topic_content': 'query: Protocolo Clínico e Diretrizes Terapêuticas (PCDT) de Síndrome de Turner. CRITÉRIOS DE INCLUSÃO Serão incluídas neste Protocolo as pacientes com diagnóstico de síndrome de Turner confirmado por meio de cariótipo e que apresente um dos critérios abaixo: - idade mínima de 2 anos; - idade entre 2 e 5 anos: a altura deverá ser inferior ao percentil 5 da altura prevista para a idade, conforme a curva da Organização Mundial da Saúde (OMS) (9); - idade acima de 5 anos: a altura deverá ser inferior ao percentil 5 da altura prevista para a idade, conforme a curva do National Center for Health Statistics (NCHS) /Center of Disease Control (CDC) com idade óssea abaixo de 14 anos, estimada por radiografia de mãos e punhos (10); - função tireoideana basal (TSH, T4 livre) dentro dos limites da normalidade.', 'metadata': {'source': 'Síndrome de Turner', 'topic': 'CRITÉRIOS DE INCLUSÃO'}}], [{'topic_content': 'query: Protocolo Clínico e Diretrizes Terapêuticas (PCDT) de Síndrome de Turner. CRITÉRIOS DE EXCLUSÃO Serão excluídas deste Protocolo para tratamento com somatropi na as pacientes que apresentarem pelo menos uma das condições abaixo: - doença neoplásica maligna ativa; - anomalias congênitas renais e cardiovasculares graves não corrigidas, que causam instabilidade clínica ou necessidade de internação hospitalar e intervenção cirúrgica. - doença aguda grave, isto é, que necessite internação e tratamento parenteral ou nada por via oral (NPO) ou tratamento em unidade de terapia intensiva (UTI); - hipertensão intracraniana benigna; - retinopatia diabética proliferativa ou pré-proliferativa; - hipersensibilidade ou intolerância ao medicamento ou a um dos seus componentes.', 'metadata': {'source': 'Síndrome de Turner', 'topic': 'CRITÉRIOS DE EXCLUSÃO'}}], [{'topic_content': 'query: Protocolo Clínico e Diretrizes Terapêuticas (PCDT) de Síndrome de Turner. CASOS ESPECIAIS Em caso de doença aguda grave (com necessidade de internação e tratamento parenteral ou NPO ou tratamento em UTI), o tratamento deverá ser interrompido por 1-2 meses ou até que haja recuperação da paciente. Em caso de doença neoplásica maligna, o tratamento com somatropina somente poderá ser utilizado após liberação documentada por oncologist a, decorridos 2 anos do tratamento e remissão completa da doença (8). Em caso de anomalias congênitas que necessitem correção cirúrgica, o tratamento deverá ser protelado ou interrompido durante o tempo necessário para que as correções sejam realizadas e a paciente se recupere. Nos casos de hipotireoidismo, o tratamento com levotiroxina visa a restabelecer a função tireoideana normal e não impede o tratamento com somatropina.', 'metadata': {'source': 'Síndrome de Turner', 'topic': 'CASOS ESPECIAIS'}}], [{'topic_content': 'query: Protocolo Clínico e Diretrizes Terapêuticas (PCDT) de Síndrome de Turner. TRATAMENTO A síndrome de Turner tem seu tratamento basicamente centrado nas manifestações clínicas associadas. Entre as condutas adotadas, incluem -se tratamento cirúrgico das malformações associadas (principalmente cardíacas), terapia de reposição com estrogênios (devido à disgenesia gonadal), tratamento do hipotireoidismo, tratamento de doença renal (quando presente), uso de somatropina para promoção do crescimento, indução puberal, suplementação com estrógenos e progestágenos, e aconselhamento genético. Hipoacusia, hipertensão arterial, doenças autoimunes e problemas psicológicos também são comuns e podem reque rer tratamento específico (3-5,11). A indução puberal em meninas com insuficiência ovariana é usualmente iniciada entre 11 e 12 anos com baixas doses de estrog ênios para não interferir no tratamento com somatropina. Estrógenos conjugados e beta-estradiol micronizado são os estrógenos mais comumente utilizados, embora se possam usar estrógenos transdérmicos (gel ou adesivos). Apresentações orais têm impacto na diminuição do LDL -colesterol a aumento HDL -colesterol, porém estrogênios transdérmicos são considerados opções mais seguras para níveis de glicemia, colesterol e densidade mineral óssea (5,12,13). Contudo, as evidências apresentadas na literatura são conside radas fracas (12). Osprogestágenos mais usados são a medroxiprogesterona e a progesterona micronizada, iniciados após o sangramento vaginal ou 2 anos após o início dos estrogênios (4,12). Os mecanismos que determinam baixa estatura nas pacientes com síndrome de Turner ainda não foram completamente entendidos, visto não haver deficiência de hormônio de crescimento. Provavelmente o que ocorre é uma falha na resposta à ação desse hormônio combinada com displasia esquelética (14).', 'metadata': {'source': 'Síndrome de Turner', 'topic': 'TRATAMENTO'}}, {'topic_content': 'query: Protocolo Clínico e Diretrizes Terapêuticas (PCDT) de Síndrome de Turner. TRATAMENTO. Provavelmente o que ocorre é uma falha na resposta à ação desse hormônio combinada com displasia esquelética (14). A somatropina, forma biossintética do hormônio de crescimento, está disponível desde 1985 e tem sido utilizada no tratamento de diferentes causas de baixa estatura, inclusive síndrome de Turner (15,16). Como não há uma deficiência do hormônio, foram estudados os efeitos da admini stração de doses suprafisiológicas de somatropina nas pacientes com essa síndrome. Há evidências de que o uso desse medicamento aumenta significativamente a velocidade de crescimento e a altura final das pacientes. (17) identificou quatro ensaios clínicos randomizados (18- 23) que incluíram 365 indivíduos com síndrome de Turner tratados com somatropina nas doses de 0,3 a 0,375 mg/kg/semana. Apenas um ensaio clínico descreveu a altura final atingida por 61 mulheres tratadas (148 cm), que foi superior à encontrada em 43 mulheres não tratadas [141 cm, média de diferença de 7 cm, interv alo de confiança de 95% (IC 95% 6-8]. Os demais estudos avaliaram um período menor de tempo, e demonstraram que existe aumento da velocidade de crescimento após 1 ano (média de 3 cm/ano, IC 95% 2-4) e após 2 anos de tratamento (média de 2 cm/ano, IC 95% 1- 2,3). A idade óssea não foi acelerada com o tratamento e os eventos adversos não foram frequentes. Alguns estudos sugerem efeito sinérgico modesto de cerca de 2-5cm com a associação com oxandrolona 0,03 - 0,05 mg/kg/dia se o diagnó stico for tardio e o prognóstico estatural muito baixo. Contudo, há importantes efeitos adversos associados a virilização que precisam ser considerados (12) e faltam evidênc ias para eficácia e segurança para esta associação.', 'metadata': {'source': 'Síndrome de Turner', 'topic': 'TRATAMENTO'}}, {'topic_content': 'query: Protocolo Clínico e Diretrizes Terapêuticas (PCDT) de Síndrome de Turner. TRATAMENTO. Contudo, há importantes efeitos adversos associados a virilização que precisam ser considerados (12) e faltam evidênc ias para eficácia e segurança para esta associação. O principal fator preditivo de melhor resposta é a idade de início do tratamento, com melhores resultados quando o início for mais precoce (14,24, 25), não havendo, entretanto, definição de qual seria a idade ideal para iniciá -lo. Estudos que avaliaram o impacto do tratamento na qualidade de vida e sobre variáveis neuropsicológicas apresentaram resultados controversos (26-29). Outros estudos sugerem efeito benéfico da somatropina sobre perfil lipídico, pressão arterial, alterações da voz/fala e proporções corporais das pacientes com síndrome de Turner (30-32). O conjunto dos estudos sobre uso de somatropina em pacientes com síndrome de Turner apresenta grande variabilidade em termos de protocolo de tratamen to, dose, idade de início e administração concomitante de estrógeno ou esteroide anabolizante. A terapia com estrógeno, que deve ser empregada para o desenvolvimento de caracteres sexuais secundários nas pacientes com a síndrome e hipogonadismo, diminui a resposta à somatropina, portanto o início da terapia com estrógeno deve ser definido de modo a evitar o efeito negativo sobre o crescimento e a proporcionar a indução da puberdade em idade adequada (11,33-35).', 'metadata': {'source': 'Síndrome de Turner', 'topic': 'TRATAMENTO'}}], [{'topic_content': 'query: Protocolo Clínico e Diretrizes Terapêuticas (PCDT) de Síndrome de Turner. FÁRMACOS - Somatropina injetável: 4UI, 12UI, 15UI, 16UI, 18UI, 24UI e 30UI. Na fórmula de conversão, 1 mg equivale a 3 UI. Há apresentações comerciais com volumes de diluente diferentes para a mesma dose de hormônio, o que deverá ser observado na prescrição e orientação ao paciente. - Estrógen os conjugados: comprimidos de 0,3 mg. - Medroxiprogesterona: comprimidos de 10 mg. 7.2.', 'metadata': {'source': 'Síndrome de Turner', 'topic': 'FÁRMACOS'}}], [{'topic_content': 'query: Protocolo Clínico e Diretrizes Terapêuticas (PCDT) de Síndrome de Turner. ESQUEMAS DE ADMINISTRAÇÃO Somatropina: 0,135 -0,15 UI/kg/dia (0,045 -0,050 mg/kg/dia ou 0,3 a 0,375 mg/kg/semana) administrados via subcutânea, à noite, 6-7 vezes/semana (12,36). Excepcionalmente doses de até 0,2 U/Kg/dia podem ser prescritas em casos de baixa velocidade de crescimento e comprometimento da altura final, mantidos níveis de IGF-1 dentro dos valores de normalidade (idealmente menore s de +2dp da média para idade) . (12)Estrogênios conjugados: inicialmente 0,3 mg/dia por via oral em dias alternados (1/10 a 1/8 da dose de adulto) (37). As doses são lenta e progressivamente elevadas a cada 4-6 meses ao longo de 2 a 4 anos, até as doses habituais para as adultas chegando a 1,25-2,5 mg, observando -se o efeito na indução puberal sem prejuízo para o crescimento. Medroxiprogesterona: 5-10 mg dos dias 20-30 de ciclo mensal.', 'metadata': {'source': 'Síndrome de Turner', 'topic': 'ESQUEMAS DE ADMINISTRAÇÃO'}}], [{'topic_content': 'query: Protocolo Clínico e Diretrizes Terapêuticas (PCDT) de Síndrome de Turner. TEMPO DE TRATAMENTO – CRITÉRIOS DE INTERRUPÇÃO O tratamento com somatropina deverá ser interrompido nas seguintes situações (18): - falha de reposta ao tratamento, definida como aumento da velocidade de crescimento no primeiro ano de tratamento inferior a 50% da velocidade de crescimento prévia ou como velocidade de crescimento menor do que 2 cm/ano, desde que a paciente esteja em vigência de, ao menos, um ano de tratamento efetivo; - idade óssea igual ou superior a 14 anos, de acordo com idade óssea estimada por radiografia de mãos e punhos (12). A terapêutica com estrogênios deve ser mantida na vida adulta após ajuste progressivo da dose (4,11,12,37).', 'metadata': {'source': 'Síndrome de Turner', 'topic': 'TEMPO DE TRATAMENTO'}}], [{'topic_content': 'query: Protocolo Clínico e Diretrizes Terapêuticas (PCDT) de Síndrome de Turner. BENEFÍCIOS ESPERADOS - Aumento da velocidade de crescimento e da altura final.', 'metadata': {'source': 'Síndrome de Turner', 'topic': 'BENEFÍCIOS ESPERADOS'}}], [{'topic_content': 'query: Protocolo Clínico e Diretrizes Terapêuticas (PCDT) de Síndrome de Turner. MONITORIZAÇÃO A monit orização do tratamento com somatropina deverá ser realizada a partir de consultas clínicas com aferição das medidas antropométricas a cada 3-6 meses. A resposta ao tratamento deve ser acompanhada pelas curvas de crescimento já citadas, preferencialmente também pela curva de altura de Lyon, específica para síndrome de Turner (Anexo 1) (38). Exames laboratoriais para avaliação da glicemia de jejum e função tireoidiana (TSH) e exame radiológico para avaliação da idade óssea devem ser realizados anualmente (39). No caso de glicemia acima do limite da normalidade, deve -se considerar a redução da dose de somatropina , e no caso de hipotireoidismo (TSH> 10 mUI/L) recomenda -se o tratamento desta situação clínica. O exame complementar da somatomedina -C ou fator de crescimento insulina símile 1 (IGF -1) deve ser realizado anualmente e sempre que houver necessidade de alteração de dose, visto que essa molécula é um marcador da adesão ao tratamento com somatropina e um dos parâmetros para ajuste da dose deste medicamento. Idealmente , devem -se buscar os valores normais (12,40). Na presença de níveis elevados de somatomedina -C (ou IGF-1), a dose de somatropina deve ser reduzida; se os níveis estiverem diminuídos, deve -se, inicialmente, verificar a adesão da paciente ao tratamento e, somente se ela for satisfatória, aumentar a dose do medicamento. Em casos de boa adesão ao tratamento, mas níveis de somatomedina -C (ou IGF-1) baixos para a idade óssea e velocidade de crescimento aquém do desejado, recomenda -se ajuste de dose para o peso até 0,15 UI/kg/dia, visando a níveis satisfatórios e seguros de somato medina C (ou IGF-1) e aumento da velocidade de crescimento. A somatropina é um medicamento seguro, com raros efeitos adversos graves.', 'metadata': {'source': 'Síndrome de Turner', 'topic': 'MONITORIZAÇÃO'}}, {'topic_content': 'query: Protocolo Clínico e Diretrizes Terapêuticas (PCDT) de Síndrome de Turner. MONITORIZAÇÃO. A somatropina é um medicamento seguro, com raros efeitos adversos graves. Deve -se atentar para o risco de desenvolvimento de intolerância à glicose, hipotireoidismo e hipertensão intracraniana benigna (41). Outros eventos associados ao uso de somatropina em pacientes com síndrome de Turner incluem escoliose, deslizamento da epífise femoral e pancreatite, sendo que a associação com o desenvolvimento de neoplasias e com dissecção/ruptura de aorta permanece controversa (42,43). A monitorização para o tratamento de indução puberal se realiza através do exame clínico de evolução do estádio de Tanner das mamas (Anexo 1) a cada 4-6 meses até a observaçã o aquisição da mama adulta (44,45), preferencialmente coincidindo com a finalização do tratamento para crescimento. Diferente do tratamento com somatropina, a terapêutica com estrogênios deve ser mantida na vida adulta para garantia da aquisição da massa óssea (12).9. REGULAÇÃO/CONTROLE/A V ALIAÇÃO PELO GESTOR Devem ser observados os critérios de inclusão e exclusão de pacientes constantes neste Protocolo, a duração e a monitorização do tratamento, bem como a verificação periódica das doses prescritas e dispensadas, a adequação de uso do medicamento e os critério s de interrupção do tratamento. É preferível que as pacientes sejam atendidas por médicos especialistas em endocrinologia ou endocrinologia pediátrica e que sejam monitorizados os efeitos adversos e benefícios a longo prazo em serviços especializad os. Verificar na Relação Nacional de Medicamentos Essenciais (RENAME) vigente em qual componente da Assistência Farmacêutica se encontram os medicamentos preconizados neste Protocolo.', 'metadata': {'source': 'Síndrome de Turner', 'topic': 'MONITORIZAÇÃO'}}], [{'topic_content': 'query: Protocolo Clínico e Diretrizes Terapêuticas (PCDT) de Síndrome de Turner. TERMO DE ESCLARECIMENTO E RESPONSABILIDADE – TER Deve -se cientificar o paciente, ou seu responsável legal, sobre os potenciais riscos, benefícios e efeitos adversos relacionados ao uso dos medicamentos preconizados neste Protocolo, levando -se em consideração as informações contidas no TER.', 'metadata': {'source': 'Síndrome de Turner', 'topic': 'TERMO DE ESCLARECIMENTO E RESPONSABILIDADE'}}], [{'topic_content': 'query: Protocolo Clínico e Diretrizes Terapêuticas (PCDT) de Doença de Alzheimer. INTRODUÇÃO A doença de Alzheimer (DA) é um transtorno neurodegenerativo progressivo e fatal que se manifesta por deterioração cognitiva e da memória, comprometimento progressivo das atividades de vida diária e uma variedade de sintomas neuropsiquiátricos e de alterações comportamentais. Estudos de prevalência estimam um total de aproximadamente 5,4 milhões de indivíduos com DA nos Estados Unidos no ano de 2016, com uma taxa em torno de 11% para indivíduos com 65 anos ou mais e 32% para aqueles com 85 anos ou mais. As projeções para 2050 estimam que nesse paísem torno de 7 mil hões de pessoas com 85 anos poderão ter DA, representando acometimento de metade (51%) da população com 65 anos por esta doença (1). As estimativas de custo total de saúde com pacientes com DA e outras demência s foram de 236 bilhões de dólares para 2016 nos EUA (1),e os custos globais com demência aumentaram de 604 bilhões de dólares em 2010 para 818 bilhões de dólares em 2015 ( 2). As taxas de incidência de DA aumentam exponencialmente com a idade ( 2). No Brasil, um estudo utilizando amostra de idosos de base comunitária demonstrou que a taxa de prevalência de demência na população com mais dos 65 anos foi de 7,1%, sendo que a DA foi responsável por 55% dos casos (3). A taxa de incidência foi de 7,7 por 1.000 pessoas /ano no estudo de São Paulo (4) e de 14,8 por 1.000 pessoas /ano no estudo do Rio Grande do Sul (5). Considerando a prevalência de demência no Brasil e a po pulação de idosos de aproximadamente 15 milhões de pessoas, a estimativa de demência na população brasileira é de 1,1 milhão. Uma revisão sistemática recente encontrou taxas de demência na população brasileira variando de 5,1% a 17,5%, sendo a DA a causa mais frequente ( 6). A DA se instala, em geral, de modo insidioso e se desenvolve lenta e continuamente por vários anos.', 'metadata': {'source': 'Doença de Alzheimer', 'topic': 'INTRODUÇÃO'}}, {'topic_content': 'query: Protocolo Clínico e Diretrizes Terapêuticas (PCDT) de Doença de Alzheimer. INTRODUÇÃO. A DA se instala, em geral, de modo insidioso e se desenvolve lenta e continuamente por vários anos. As suas alterações neuropatológicas e bioquímicas podem ser divididas em duas áreas gerais: mudanças estruturais e alterações n os neurotransmissores ou nos sistemas neurotransmissores. As mudanças estruturais incluem os enovelados neurofibrilares, as placas neuríticas e as alterações do metabolismo amiloide, bem como as perdas sinápticas e a morte neuronal. As alterações nos siste mas neurotransmissores estão ligadas às mudanças estruturais (patológicas) que ocorrem de forma desordenada na doença. Alguns neurotransmissores são significativamente afetados ou relativamente afetados , indicando um padrão de degeneração de sistemas. Poré m, sistemas neurotransmissores podem estar afetados em algumas áreas cerebrais, mas não em outras, como no caso da perda do sistema colinérgico c órtico-basal e da ausência de efeito sobre o sistema colinérgico do tronco3 cerebral. Efeitos similares são obser vados no sistema noradrenérgico. Além da degeneração do sistema colinérgico, ocorre também aumento da perda dos neurônios glutaminérgicos, com distúrbios nos receptores N -metil -D-aspartato (NMDA – receptor glutaminérgico) e na expressão do receptor do ácido α -amino -3-hidroxi -5-metil -4-isoxazolepropi ônico no córtex cerebral e hipocampo ao longo da evolução da DA (7 ). Os fatores de risco bem estabelecidos para DA são idade e história familiar da doença (o risco aumenta com o número crescente de familiare s de primeiro grau afetados ) (1,2,7). A etiologia de DA permanece indefinida, embora progresso considerável tenha sido alcançado na compreensão de seus mecanismos bioquímicos e genéticos.', 'metadata': {'source': 'Doença de Alzheimer', 'topic': 'INTRODUÇÃO'}}, {'topic_content': 'query: Protocolo Clínico e Diretrizes Terapêuticas (PCDT) de Doença de Alzheimer. INTRODUÇÃO. A etiologia de DA permanece indefinida, embora progresso considerável tenha sido alcançado na compreensão de seus mecanismos bioquímicos e genéticos. É sabido que o fragmento de 42 aminoácidos da proteína precursora B -amiloide tem alta relevância na patogênese das placas senis e que a maioria das formas familiais da doença é associada à superprodução des sa proteína. Algumas proteínas que compõem os enovelados neurofibrilares, mais especialmente a proteína Tau hiperfosforilada e a ubiquitina, foram identificadas, mas a relação entre a formação das placas, a formação do enovelado neurofibrilar e a lesão celular permanece incerta . Sabe -se que o alelo E4 do gene da apolipoproteína E (ApoE) é cerca de três vezes mai s frequente nas pessoas com DA do que nos sujeitos -controle pareados por idade e que pessoas homozigotas para esse gene apresentam maior risco para a doença do que as não homozigotas (8). Entretanto, a especificidade e a sensibilidade do teste da ApoE são muito baixas para permitir seu uso como teste de rastre amento na população geral (8). Para a atualização d este Protocolo Clínico e Diretrizes Terapêuticas ( PCDT ), foi realizada uma nova revisão de literatura buscando em três bases de dados ( Apêndice 3 ) meta -análises e revisões sistemáticas publicadas a partir de 2013 , ano da sua última versão, sobre a segurança e eficácia de tratamento clínico da demência devido a DA. Essa nova busca corroborou a efetividade dos inibidores da colinesterase no tratamento da DA leve a moderada.', 'metadata': {'source': 'Doença de Alzheimer', 'topic': 'INTRODUÇÃO'}}, {'topic_content': 'query: Protocolo Clínico e Diretrizes Terapêuticas (PCDT) de Doença de Alzheimer. INTRODUÇÃO. Essa nova busca corroborou a efetividade dos inibidores da colinesterase no tratamento da DA leve a moderada. Além disso, a atualização também in cluiu as conclusões do parecer técnico científico (PTC) sobre a inclusão da memantina no tratamento de demência de vido a DA combinada aos inibidores da acetilcolinesterase (donepezila ou galantamina ou rivastigmina) nos casos de doença moderada e o uso de memantina em monoterapia nos casos graves (9). A identificação de fatores de risco e da doença em seu estágio inicial e o encaminhamento ágil e adequado para o atendimento especializado dão à Atenção Básica um caráter essencial para um melhor resultado terapêutico e prognóstico dos casos. CLASSIFICAÇÃO ESTATÍS TICA INTERNACIONAL D E DOENÇAS E PROBLEMA S RELACIONADOS À SAÚDE (CID -10) \\uf0b7 G30.0 Doença de Alzheimer de início precoce4 \\uf0b7 G30.1 Doença de Alzheimer de início tardio \\uf0b7 G30.8 Outras formas de doença de Alzheimer \\uf0b7 F00.0 Demência na doença de Alzhei mer de início precoce \\uf0b7 F00.1 Demência na doença de Alzheimer de início tardio \\uf0b7 F00.2 Demência na doença de Alzheimer, forma atípica ou mista 3.', 'metadata': {'source': 'Doença de Alzheimer', 'topic': 'INTRODUÇÃO'}}], [{'topic_content': \"query: Protocolo Clínico e Diretrizes Terapêuticas (PCDT) de Doença de Alzheimer. DIAGNÓSTICO 3.1 DIAGNÓSTICO CLÍNICO O diagnóstico clínico de DA parte de um diagnóstico sindrômico de demência de qualquer etiologia de acordo com os critérios do National Institute on Aging and Alzheimer's Association Disease and Related Disorders Association (NIA/AA) (Quadro 1), endossados pela Academia Brasileira de Neurologia (ABN) (10,11). Demência é diagnosticada quando há sintomas cognitivos ou comportamentais (neuropsiquiátricos) que (a) interferem com a habilidade no trabalho ou em atividades usuais; (b)representam declínio em relação a níveis prévios de funcionamento e desempenho; (c) não são explicáveis por delirium (estado confusional agudo) ou doença psiquiátrica maior . O comprometimento cognitivo é detectado e diagnosticado mediante a combinação de anamnese com paciente e informante que tenha conhecimento da história do paciente e de avaliação cognitiva objetiva, mediante exame breve do estado mental ou avaliação neuropsicológica. A avaliação neuropsicológica deve ser realizada quando a anamnese e o e xame cognitivo breve realizado pelo médico não forem suficientes para permitir um diagnóstico confiável.\", 'metadata': {'source': 'Doença de Alzheimer', 'topic': 'DIAGNÓSTICO'}}, {'topic_content': \"query: Protocolo Clínico e Diretrizes Terapêuticas (PCDT) de Doença de Alzheimer. DIAGNÓSTICO. A avaliação neuropsicológica deve ser realizada quando a anamnese e o e xame cognitivo breve realizado pelo médico não forem suficientes para permitir um diagnóstico confiável. O s comprometimentos cognitivos ou comportamentais devem afetar no mínimo dois dos seguintes campos : - memória, caracterizado por comprometimento da capacidade para adquirir ou evocar informações recentes, com sintomas que incluem repetição das mesmas perguntas ou assuntos e esquecimento de eventos, compromissos ou do lugar onde guardou seus pertences; - funções executivas, caracterizado por compromet imento do raciocínio, da realização de tarefas complexas e do julgamento, com sintomas como compreensão pobre de situações de risco e redução da capacidade para cuidar das finanças, de tomar decisões e de planejar atividades complexas ou seq uenciais; - habilidades vísuo-espaciais, com sintomas que incluem incapacidade de reconhecer faces ou objetos comuns ou de encontrar objetos no campo visual, ou dificuldade para manusear utensílios ou para vestir -se, inexplicáveis por deficiência visual ou motora;5 - linguagem (expressão, compreensão, leitura e escrita), com sintomas que incluem dificuldade para encontrar ou compreender palavras, erros ao falar e escrever, com trocas de palavras ou fonemas, inexplicáveis por déficit sensorial ou motor; - personalidade ou comportamento, com sintomas que incluem alterações do humor (labilidade, flutuações incaracterísticas), agitação, apatia, desinteresse, isolamento social, perda de empatia, desinibição e comportamentos obsessivos, compulsivos ou socialmente inaceitávei s. Quadro 1 - Elementos -chave dos critérios para demência devido a doença de Alzheimer segundo o National Institute on Aging and Alzheimer 's Association (NI A-AA) [Criteria for Alzheimer Disease – NIA- AA],endossados pela Academia Brasileira de Neurologia (ABN) (10,11).\", 'metadata': {'source': 'Doença de Alzheimer', 'topic': 'DIAGNÓSTICO'}}, {'topic_content': \"query: Protocolo Clínico e Diretrizes Terapêuticas (PCDT) de Doença de Alzheimer. DIAGNÓSTICO. O s comprometimentos cognitivos ou comportamentais devem afetar no mínimo dois dos seguintes campos : - memória, caracterizado por comprometimento da capacidade para adquirir ou evocar informações recentes, com sintomas que incluem repetição das mesmas perguntas ou assuntos e esquecimento de eventos, compromissos ou do lugar onde guardou seus pertences; - funções executivas, caracterizado por compromet imento do raciocínio, da realização de tarefas complexas e do julgamento, com sintomas como compreensão pobre de situações de risco e redução da capacidade para cuidar das finanças, de tomar decisões e de planejar atividades complexas ou seq uenciais; - habilidades vísuo-espaciais, com sintomas que incluem incapacidade de reconhecer faces ou objetos comuns ou de encontrar objetos no campo visual, ou dificuldade para manusear utensílios ou para vestir -se, inexplicáveis por deficiência visual ou motora;5 - linguagem (expressão, compreensão, leitura e escrita), com sintomas que incluem dificuldade para encontrar ou compreender palavras, erros ao falar e escrever, com trocas de palavras ou fonemas, inexplicáveis por déficit sensorial ou motor; - personalidade ou comportamento, com sintomas que incluem alterações do humor (labilidade, flutuações incaracterísticas), agitação, apatia, desinteresse, isolamento social, perda de empatia, desinibição e comportamentos obsessivos, compulsivos ou socialmente inaceitávei s. Quadro 1 - Elementos -chave dos critérios para demência devido a doença de Alzheimer segundo o National Institute on Aging and Alzheimer 's Association (NI A-AA) [Criteria for Alzheimer Disease – NIA- AA],endossados pela Academia Brasileira de Neurologia (ABN) (10,11). DEMÊNCIA NA DOENÇA DE ALZHEIMER PROVÁVEL \\uf0e0Critérios de demência foram preenchidos , mais as seguintes características: A. início insidioso (meses a anos) ; B. clara história de perda cognitiva referida pelo informante ; C. o déficit cognitivo mais proeminente e inicial é evidente na história e exame em uma das seguintes categorias: - apresentação amnésica : mais comum, deve haver prejuízo no aprendizado e na evocação de informações rece ntemente aprendidas ; - apresentação não amnésica:prejuízos na linguagem, habilidades v ísuo-espaciais ou função executiva .\", 'metadata': {'source': 'Doença de Alzheimer', 'topic': 'DIAGNÓSTICO'}}, {'topic_content': 'query: Protocolo Clínico e Diretrizes Terapêuticas (PCDT) de Doença de Alzheimer. DIAGNÓSTICO. DEMÊNCIA NA DOENÇA DE ALZHEIMER PROVÁVEL \\uf0e0Critérios de demência foram preenchidos , mais as seguintes características: A. início insidioso (meses a anos) ; B. clara história de perda cognitiva referida pelo informante ; C. o déficit cognitivo mais proeminente e inicial é evidente na história e exame em uma das seguintes categorias: - apresentação amnésica : mais comum, deve haver prejuízo no aprendizado e na evocação de informações rece ntemente aprendidas ; - apresentação não amnésica:prejuízos na linguagem, habilidades v ísuo-espaciais ou função executiva . D. Esse diagnóstico não se aplica quando existe evidência de: - DCV * concomitante substancial, definida por (a) história de AVC ** temporalmente relacionada ao início da perda cognitiva ou (b) presença de múltiplos e extensos infartos, (c) extensa hiperintensidade de substância branca; - Características proeminentes de outras demências primárias: DFT *** variante comportamental, Demên cia por corpos de Lewy, DFT *** variantes de linguagem ; - Outra doença neurológica ativa ou comorbidade médica não neurológica ou uso de medicamentos que poderiam ter um efeito substancial na cognição. * DCV ( doença cardiovascular); **AVC ( acidente vascula r cerebral); ***DFT ( demência frontotemporal. 3.2 DIAGNÓSTICO DIFERENCI AL A depressão é uma comorbidade comum e tratável em pacientes com demência e deve ser rastreada. A deficiência de vitamina B12 é comum em idosos, devendo a dosagem de nível sérico de6 B12 ser incluída na rotina de avaliação. Devido à frequência, o hipotireoidismo deve ser pesquisado nos pacientes idosos.', 'metadata': {'source': 'Doença de Alzheimer', 'topic': 'DIAGNÓSTICO'}}, {'topic_content': 'query: Protocolo Clínico e Diretrizes Terapêuticas (PCDT) de Doença de Alzheimer. DIAGNÓSTICO. Devido à frequência, o hipotireoidismo deve ser pesquisado nos pacientes idosos. Um exame de imagem cerebral –tomografia computadorizada ( TC) ou ressonância magnética (RM) –é útil para excluir lesões estruturais que podem contribuir para a demência, como infarto cerebral, neoplasia e coleções de líquido extracerebral . O processo de investigação diagnóstica para preencher os critérios inclui história completa (com paciente e familiar ou cuidador), avaliação clínica – incluindo a escala de avaliação clínica da demência (CDR , Apêndice 2)(12, 13), rastre io cognitivo – testes cognitivos como o Mini -Exame do Estado Mental (MEEM , Apêndice 1) (14,15) – , exames laboratoriais – hemograma completo , eletrólitos (sódio, potássio , cálcio ), glicemia, ureia e creatinina, TSH e alanin o-aminotransferase (ALT /TGP ), aspartato -aminotransferase (AST /TGO ), vitamina B12, ácido fólico –, sorologia sérica para sífilis (VDRL) e HIV (em pacientes com menos de 60 anos), e imagem cerebral (TC sem contraste ou RM) (8).', 'metadata': {'source': 'Doença de Alzheimer', 'topic': 'DIAGNÓSTICO'}}, {'topic_content': 'query: Protocolo Clínico e Diretrizes Terapêuticas (PCDT) de Doença de Alzheimer. DIAGNÓSTICO. O processo de investigação diagnóstica para preencher os critérios inclui história completa (com paciente e familiar ou cuidador), avaliação clínica – incluindo a escala de avaliação clínica da demência (CDR , Apêndice 2)(12, 13), rastre io cognitivo – testes cognitivos como o Mini -Exame do Estado Mental (MEEM , Apêndice 1) (14,15) – , exames laboratoriais – hemograma completo , eletrólitos (sódio, potássio , cálcio ), glicemia, ureia e creatinina, TSH e alanin o-aminotransferase (ALT /TGP ), aspartato -aminotransferase (AST /TGO ), vitamina B12, ácido fólico –, sorologia sérica para sífilis (VDRL) e HIV (em pacientes com menos de 60 anos), e imagem cerebral (TC sem contraste ou RM) (8). Inexistem evidências sufic ientes que sustente m a indicação na prática clínica de uso dos seguintes exames (8,10,11): medidas lineares ou volumétri cas por RM ou TC, tomografia computadorizada por emissão simples de fótons ( single photon emission computed tomography ), testes genéticos para demência de corpos de Lewy ou doença de Creutzfeld -Jakob , genotipagem da ApoE para DA, eletroencefalograma , punção lombar , tomografia por emissão de pósitrons ( pósitron emission tomography ), marcadores genéticos para DA não listados acima, marcadores biológicos no líquor ou outros para DA e mutações da proteína Tau e mutações gênicas da DA em pacientes com demên cia fronto temporal .', 'metadata': {'source': 'Doença de Alzheimer', 'topic': 'DIAGNÓSTICO'}}, {'topic_content': 'query: Protocolo Clínico e Diretrizes Terapêuticas (PCDT) de Doença de Alzheimer. DIAGNÓSTICO. Inexistem evidências sufic ientes que sustente m a indicação na prática clínica de uso dos seguintes exames (8,10,11): medidas lineares ou volumétri cas por RM ou TC, tomografia computadorizada por emissão simples de fótons ( single photon emission computed tomography ), testes genéticos para demência de corpos de Lewy ou doença de Creutzfeld -Jakob , genotipagem da ApoE para DA, eletroencefalograma , punção lombar , tomografia por emissão de pósitrons ( pósitron emission tomography ), marcadores genéticos para DA não listados acima, marcadores biológicos no líquor ou outros para DA e mutações da proteína Tau e mutações gênicas da DA em pacientes com demên cia fronto temporal . A punção lombar deve ser procedida apenas nos casos de suspeita de câncer metastático, de infecção do sistema nervoso central (SNC) e em pacientes com sorologia sérica reativa para sífilis, hidrocefalia, idade menor de 55 anos, demência rapidamente progressiva ou não usual, imunossupressão e suspeita de vasculite do SNC. O diagnóstico definitivo de DA só pode ser realizado por necropsia (ou biópsia) com identificação do número apropriado de placas e enovelados em regiões específi cas do cérebro, na presença de história c línica consistente com demência, porém na prática clínica não se recomenda biópsia para tal diagnóstico.', 'metadata': {'source': 'Doença de Alzheimer', 'topic': 'DIAGNÓSTICO'}}], [{'topic_content': 'query: Protocolo Clínico e Diretrizes Terapêuticas (PCDT) de Doença de Alzheimer. CRITÉRIOS DE INCLUSÃO 4.1 PARA INIBIDORES DA AC ETILCOLINESTERASE (DONEPEZILA , GALANTAMINA , RIVASTIGMINA ): Serão incluídos os pacientes que preencherem todos os critérios abaixo:7 \\uf0b7 Diagnóstico de DA provável, segundo os critérios do NIA -AA e ABN; \\uf0b7 MEEM com escore entre 12 e 24 para pacientes com mais de 4 anos de escolaridade ou entre 8 e 21 para pacientes com até 4 anos de escolaridade; \\uf0b7 Escala CDR = 1 ou 2 (demência leve ou moderada) ; \\uf0b7 TC ou RM do encéfalo e exames laboratoriais que afastem outras doenças frequentes nos idosos que possam provocar disfunção cognitiva: hemograma completo(anemia, sangramento por plaquetopenia), avaliação bioquímica (dosagem alterada de sódio, potássio, cálcio, glicose, ALT/AST, creatinina), avaliação de disfunção tiro idiana (dosagem de TSH), sorologia para lues (VDRL)e HIV (em pacientes com menos de 60 anos) e nível sérico de vitamina B12 e ácido fólico.', 'metadata': {'source': 'Doença de Alzheimer', 'topic': 'CRITÉRIOS DE INCLUSÃO'}}, {'topic_content': 'query: Protocolo Clínico e Diretrizes Terapêuticas (PCDT) de Doença de Alzheimer. CRITÉRIOS DE INCLUSÃO. CRITÉRIOS DE INCLUSÃO 4.1 PARA INIBIDORES DA AC ETILCOLINESTERASE (DONEPEZILA , GALANTAMINA , RIVASTIGMINA ): Serão incluídos os pacientes que preencherem todos os critérios abaixo:7 \\uf0b7 Diagnóstico de DA provável, segundo os critérios do NIA -AA e ABN; \\uf0b7 MEEM com escore entre 12 e 24 para pacientes com mais de 4 anos de escolaridade ou entre 8 e 21 para pacientes com até 4 anos de escolaridade; \\uf0b7 Escala CDR = 1 ou 2 (demência leve ou moderada) ; \\uf0b7 TC ou RM do encéfalo e exames laboratoriais que afastem outras doenças frequentes nos idosos que possam provocar disfunção cognitiva: hemograma completo(anemia, sangramento por plaquetopenia), avaliação bioquímica (dosagem alterada de sódio, potássio, cálcio, glicose, ALT/AST, creatinina), avaliação de disfunção tiro idiana (dosagem de TSH), sorologia para lues (VDRL)e HIV (em pacientes com menos de 60 anos) e nível sérico de vitamina B12 e ácido fólico. 4.2 PARA MEMANTINA 4.2.1 Memantina combinada aos inibidores da acetilcolinesterase : Serão incluídos os pacientes que preencherem todos os critérios abaixo: \\uf0b7 Diagnóstico de DA provável, segundo os critérios do NIA -AA, ABN; \\uf0b7 TC ou RM do encéfalo e exames laboratoriais que afastem outras doenças frequentes nos idosos que possam provocar disfunção cognitiva: he mograma completo(anemia, sangramento por plaquetopenia), avaliação bioquímica (dosagem alterada de sódio, potássio, cálcio, glicose, creatinina e transferases hepáticas - ALT/ TGP e AST /TGO ), avaliação de disfunção tiroidiana (dosagem de TSH), sorologia par a lues (VDRL) e HIV (em pacientes com menos de 60 anos) e nível sérico de vitamina B12 e ácido fólico.', 'metadata': {'source': 'Doença de Alzheimer', 'topic': 'CRITÉRIOS DE INCLUSÃO'}}, {'topic_content': 'query: Protocolo Clínico e Diretrizes Terapêuticas (PCDT) de Doença de Alzheimer. CRITÉRIOS DE INCLUSÃO. 4.2 PARA MEMANTINA 4.2.1 Memantina combinada aos inibidores da acetilcolinesterase : Serão incluídos os pacientes que preencherem todos os critérios abaixo: \\uf0b7 Diagnóstico de DA provável, segundo os critérios do NIA -AA, ABN; \\uf0b7 TC ou RM do encéfalo e exames laboratoriais que afastem outras doenças frequentes nos idosos que possam provocar disfunção cognitiva: he mograma completo(anemia, sangramento por plaquetopenia), avaliação bioquímica (dosagem alterada de sódio, potássio, cálcio, glicose, creatinina e transferases hepáticas - ALT/ TGP e AST /TGO ), avaliação de disfunção tiroidiana (dosagem de TSH), sorologia par a lues (VDRL) e HIV (em pacientes com menos de 60 anos) e nível sérico de vitamina B12 e ácido fólico. \\uf0b7 Escore na esc ala CDR= 2 (demência moderada) ; \\uf0b7 Escores no MEEM entre 12 e 19, se escolaridade maior que 4 anos, ou entre 8 e 15, se escolaridade menor ou igual a 4 anos. 4.2.2 Memantina em monoterapia : Serão incluídos os pacientes que preencherem todos os critérios abaixo: \\uf0b7 Diagnóstico de DA provável, segundo os critérios do NIA -AA, ABN; \\uf0b7 TC ou RM do encéfalo e exames laboratoriais que afastem outras doenças frequentes nos idosos que possam provocar disfunção cognitiva: hemograma completo (anemia, sangramento por plaquetopenia), avaliação bioquímica (dosagem alterada de sódio, potássio, cálcio, glicose, creatinina e transferases hepáticas - ALT/TGP e A ST/TGO ), avaliação de disfunção tiroidiana (dosagem de TSH), sorologia para lues (VDRL)e HIV (em pacientes com menos de 60 anos) e nível sérico de vitamina B12 e ácido fólico.', 'metadata': {'source': 'Doença de Alzheimer', 'topic': 'CRITÉRIOS DE INCLUSÃO'}}, {'topic_content': 'query: Protocolo Clínico e Diretrizes Terapêuticas (PCDT) de Doença de Alzheimer. CRITÉRIOS DE INCLUSÃO. 4.2.2 Memantina em monoterapia : Serão incluídos os pacientes que preencherem todos os critérios abaixo: \\uf0b7 Diagnóstico de DA provável, segundo os critérios do NIA -AA, ABN; \\uf0b7 TC ou RM do encéfalo e exames laboratoriais que afastem outras doenças frequentes nos idosos que possam provocar disfunção cognitiva: hemograma completo (anemia, sangramento por plaquetopenia), avaliação bioquímica (dosagem alterada de sódio, potássio, cálcio, glicose, creatinina e transferases hepáticas - ALT/TGP e A ST/TGO ), avaliação de disfunção tiroidiana (dosagem de TSH), sorologia para lues (VDRL)e HIV (em pacientes com menos de 60 anos) e nível sérico de vitamina B12 e ácido fólico. \\uf0b7 Escore na escala CDR = 3 (demência grave) ;8 \\uf0b7 MEEM com escore entre 5 e 11, para escolaridade maior que 4 anos, ou entre 3 e 7, quando escolaridade menor ou igual a 4 anos.', 'metadata': {'source': 'Doença de Alzheimer', 'topic': 'CRITÉRIOS DE INCLUSÃO'}}], [{'topic_content': 'query: Protocolo Clínico e Diretrizes Terapêuticas (PCDT) de Doença de Alzheimer. CRITÉRIOS DE EXCLUSÃO Serão excluídos os pacientes que apresentarem pelo menos uma das condições abaixo: 5.1 PARA INIBIDORES DA AC ETILCOLINESTERASE (DONEPEZILA , GALANTAMINA E RIVASTIGMINA ): \\uf0b7 Identificação de incapacidade de adesão ao tratamento; \\uf0b7 Evidência de lesão cerebral orgânica ou metabólica simultânea não compensada (conforme exames do item Critérios de Inclusão); \\uf0b7 Insuficiência ou arritmia cardíaca graves; \\uf0b7 Hipersensibilidade ou intolerância aos medicamentos; \\uf0b7 Demência de Alzheimer grave (CDR = 3); \\uf0b7 Escores no MEEM < 8 para sujeitos com escolaridade ≤ 4 anos de estudo; ou \\uf0b7 Escores no MEEM < 12 para sujeitos com escolaridade > 4 anos de estudo. Além dos citados ac ima, o uso de galantamina está contraindicado em casos de insuficiência hepática ou renal graves. 5.2 PARA MEMANTINA Serão excluídos os pacientes que apresentarem pelo menos uma das condições abaixo: \\uf0b7 Demência de Alzheimer de gravidade leve (CDR = 1); \\uf0b7 Escores no MEEM < 3 para sujeitos com escolaridade ≤ 4 anos de estudo; \\uf0b7 Escores no MEEM < 5 para sujeitos com escolaridade > 4 anos de estudo; \\uf0b7 Incapacidade de adesão ao tratamento; ou \\uf0b7 Hipersensibilidade ao fármaco ou a componente da fórmula.', 'metadata': {'source': 'Doença de Alzheimer', 'topic': 'CRITÉRIOS DE EXCLUSÃO'}}], [{'topic_content': 'query: Protocolo Clínico e Diretrizes Terapêuticas (PCDT) de Doença de Alzheimer. TRATAMENTO O tratamento da DA deve ser multidisciplinar, contemplando os diversos sinais e sintomas da doença e suas peculiaridades de condutas. O objetivo do tratamento medicamentoso é propiciar a estabilização do comprometimento cognitivo, do comportamento e da realização das atividades da vida diária (ou modificar as man ifestações da doença), com um mínimo de efeitos adversos . Os inibidor es da acetilcolinesteras e, donepezila, galantamina e rivastigmina , são recomendados para o tratamento da DA leve a moderada. O fundamento para o uso de fármacos colinérgicos recai9 no aume nto da secreção ou no prolongamento da meia -vida da acetilcolina na fenda sináptica em áreas relevantes do cérebro. A conclusão geral das meta -análises e revisões sistemáticas publicadas a partir de 2013 sobre a segurança e eficácia de tratamento clínico pa ra demência devido a DAé a de que os inibidores da colinesterase podem melhorar os sintomas primariamente nos campos cognitivos e na função global, sendo indicados em casos de demência leve a moderada. Inexiste diferença de eficácia entre os três medicamen tos. A substituição de um fármaco por outro só é justificada pela intolerância ao medicamento, e não pela falta de resposta clínica (16 -22). Uma das limitações do uso desses medicamentos é sua tolerância, particularmente relacionada ao trato digestório, dado que náusea e vômitos são muitas vezes intoleráveis. Para esse fim, foi desenvolvida uma apresentação farmacêutica de adesivo para aplicação transdérmica ( patch) . Em uma análise de Lee e Sevigny (23), foi observado que pacientes de baixo peso eram particu larmente suscetíveis a efeitos adversos gastrintestinais quando utilizavam a apresentação de cápsulas orais, mas não quando utilizavam o adesivo transdérmico .', 'metadata': {'source': 'Doença de Alzheimer', 'topic': 'TRATAMENTO'}}, {'topic_content': 'query: Protocolo Clínico e Diretrizes Terapêuticas (PCDT) de Doença de Alzheimer. TRATAMENTO. Em uma análise de Lee e Sevigny (23), foi observado que pacientes de baixo peso eram particu larmente suscetíveis a efeitos adversos gastrintestinais quando utilizavam a apresentação de cápsulas orais, mas não quando utilizavam o adesivo transdérmico . Em outro estudo (24), a tolerabilidade e a incidência de e feitos adversos foram semelhantes entre os grupos que utilizaram a via oral e a via transdérmica, mas a preferência dos pacientes foi pela transdérmica. A revisão sistemática da Cochrane (18) evidenciou eficácia similar entre as formas de apresentação da riva stigmina, mas menos efeitos adversos com os adesivos transdérmicos. A análise principal da eficácia e da segurança do medicamento considerou doses entre 6 mg/dia a 12 mg/dia de rivastigmina oral e 9,5 mg/dia de rivastigmina transdérmica comparadas com plac ebo. Assim, e conforme o R elatório de Recomendação da Comissão Nacional de Incorporação de Tecnologias (CONITEC) nº 224 - Setembro/2016, aprovado pela Portaria SCTIE /MS nº 31, de 20 de setembro de 2016, a rivastigmina adesivo trandérmico foi incorporada par a tratamento da demência na DA. (25) A atualização da literatura deste P rotocolo também apontou para evidência de eficácia de memantina em monoterapia ou em combinação com inibidores da colinesterase (16,17, 26-30). Além da degeneração do sistema colinérgico, a DA está também associada ao aumento da perda dos neurônios glutaminérgicos, com distúrbios nos receptores N -metil -D-aspartato (NMDA – receptor glutaminérgico) e na expressão do receptor do ácido α -amino -3-hidro xi-5-metil -4- isoxazolepropionico no córtex cerebral e hipocampo.', 'metadata': {'source': 'Doença de Alzheimer', 'topic': 'TRATAMENTO'}}, {'topic_content': 'query: Protocolo Clínico e Diretrizes Terapêuticas (PCDT) de Doença de Alzheimer. TRATAMENTO. Além da degeneração do sistema colinérgico, a DA está também associada ao aumento da perda dos neurônios glutaminérgicos, com distúrbios nos receptores N -metil -D-aspartato (NMDA – receptor glutaminérgico) e na expressão do receptor do ácido α -amino -3-hidro xi-5-metil -4- isoxazolepropionico no córtex cerebral e hipocampo. A disfunção dos neurônios glutaminérgicos aumenta as concentrações de glutamato, o que, por sua vez, aumenta a frequência da despolarização da membrana pós -sináptica e reduz a detecção dos si nais fisiológicos mediados pelo receptor de NMDA. Isso contribui para o dano cognitivo e oportuniza o outro tratamento para DA, que é o antagonista do receptor de NMDA – memantina . O Relatório de Recomendação da CONITEC nº 310 - Julho /2017, aprovado pela P ortaria SCTIE/MS nº 49, de 08 de novembro de 201 7, recomendou a incorporação da memantina combinada aos inibidores da acetilcolinesterase (donepezila ou10 galantamina ou rivastigmina) nos casos de DA moderada e o uso de memantina em monoterapia nos casos gra ves de DA. Apesar d e aintensidade do efeito da memantina sobre os campos cognitivo, comportamentais e funcionais na DA ter sido pequeno, foi significativo e influenciou favoravelmente a qualidade de vida dos doentes e cuidadores (9).', 'metadata': {'source': 'Doença de Alzheimer', 'topic': 'TRATAMENTO'}}, {'topic_content': 'query: Protocolo Clínico e Diretrizes Terapêuticas (PCDT) de Doença de Alzheimer. TRATAMENTO. Apesar d e aintensidade do efeito da memantina sobre os campos cognitivo, comportamentais e funcionais na DA ter sido pequeno, foi significativo e influenciou favoravelmente a qualidade de vida dos doentes e cuidadores (9). Em relação a intervenç ões não farmacológicas, o exercício físico de qualquer modalidade demonstrou efeito benéfico sobre a cognição de pacientes com demência devido a DA, embora o número de estudos incluídos na meta -análise tenha sido pequeno e a heterogeneidade tenha sido muito grande entre eles, impedindo recomendações sobre qual tipo de exercício deveria ser feito (31).Além disso, uma revisão sistemática das revisões sistemáticas que avaliaram o efeito de diversas intervenções farmacológicas e não farmacológicas nas atividades de vida diária de indivíduos com demência demonstrou que intervenções diádicas ( terapêuticas que envolviam o indivíduo com demência e seu cuidador em atividades amplamente definidas como psicos sociais, estimulando atividades significativas de vida diária e fazendo adaptações ambientais) foram efetivas em minimizar o declínio funcional. A diferença de média estandardizada foi de 0,68 com intervalo de confiança entre 0,08 e 1,27, e a qualidade de evidência (segundo o GRADE) foi considerada baixa. Os estudos incluídos demonstraram grande heterogeneidade quanto aos tipos de intervenções e pobre detalhamento das técnicas utilizadas, tanto nas suas características como na frequência, intensidade e duração (16). Outra revisão sistemática concluiu que a evidência em relação aos benefícios de treino e reabilitação cognitiva para pacientes com demência segue limitada, havendo necessidades de mais estudos com uma descrição mais clara das intervenções para se obter evi dência mais definitiva (32).', 'metadata': {'source': 'Doença de Alzheimer', 'topic': 'TRATAMENTO'}}, {'topic_content': 'query: Protocolo Clínico e Diretrizes Terapêuticas (PCDT) de Doença de Alzheimer. TRATAMENTO. Outra revisão sistemática concluiu que a evidência em relação aos benefícios de treino e reabilitação cognitiva para pacientes com demência segue limitada, havendo necessidades de mais estudos com uma descrição mais clara das intervenções para se obter evi dência mais definitiva (32). Uma outra revisão sistemática das revisões sistemáticas sobre o efeito de intervenções não farmacológicas no controle de sintomas psicológicos e comportamentais na demência, publicada mais recentemente (2017), demonstrou que té cnicas de conduta comportamental, treino de habilidade de comunicação para cuidadores, cuidados centrados no indivíduo, mapeamento de cuidados necessários a pacientes com demência feitos com supervisão foram efetivos para agitação sintomática e grave de pacientes com demência. Novamente a heterogeneidade dos tipos e características das intervenções e a descrição genérica das intervenções foram consideradas as limitações mais relev antes na avaliação dos estudos (33). Sendo assim, esses aspectos necessitam ser aprimorados para que intervenções não farmacológicas padronizadas, bem definidas e operacionalizadas, e assim reproduzíveis, sejam incorporadas às tecnologias em saúde usadas no tratamento das demências. A efetividade de estatinas, compostos atenuantes de proteínas metálicas, latrepirdina, ômega 3, vitamina E, ginseng , agonistas PPAR -γ (rosiglitazona, pioglitazona, telmisartan a), antagonistas histaminérgicos para o tratamento dos sintomas cognitivos, comportamentais ou na funcionalidade11 de indivíduos co m DA não foi demonstrada nas meta -análises selecionadas nesta nova revisão da literatura (34-41), assim como nenhum medicamento demonstrou maior evidência de eficácia nos problemas de sono em indivíduos com demência (42) ou no tratamento de epilepsia em pacientes com DA (43). Três estudos incluídos em uma meta -análise demonstraram efeito benéfico pequeno ,mas significativo , do lítio na cognição de pacientes com DA, porém um número maior de estudos precisa ser feito para av aliar a efetividade deste medicamento nesta indicação (44).', 'metadata': {'source': 'Doença de Alzheimer', 'topic': 'TRATAMENTO'}}], [{'topic_content': 'query: Protocolo Clínico e Diretrizes Terapêuticas (PCDT) de Doença de Alzheimer. FÁRMACOS \\uf0b7 Donepezila : comprimidos de 5 e 10 mg . \\uf0b7 Galantamina: cápsulas de liberação prolongada de 8, 16 e 24 mg . \\uf0b7 Rivastigmina: - cápsulas de 1,5 mg, 3mg, 4,5mg e 6 mg; solução oral de 2 mg/mL. - adesivo s transdérmico s de 5 cm2 contendo 9 mg de rivastigmina com percentual de liberação de 4,6 mg/24 h ede 10 cm2 contendo 18 mg de rivastigmina , percent ual de liberação de 9,5 mg/24 h. \\uf0b7 Memantina: comprimidos revestidos de 10mg.', 'metadata': {'source': 'Doença de Alzheimer', 'topic': 'FÁRMACOS'}}], [{'topic_content': 'query: Protocolo Clínico e Diretrizes Terapêuticas (PCDT) de Doença de Alzheimer. ESQUEMAS DE ADMINISTRAÇÃO \\uf0b7 Donepezila : iniciar com 5 mg/dia por via oral. A dose pode ser aumentada para 10 mg/dia após 4 -6 semanas, devendo ser administrada ao deitar. Os comprimidos podem ser ingeridos com ou sem alimentos. \\uf0b7 Galantamina: iniciar com 8 mg/dia, por via oral, durante 4 semanas. A dose de manutenção é de 16 mg/dia por, no mínimo, 12 meses. Como se trata de cápsulas de liberação prolongada, devem ser administradas uma vez ao dia, pela manhã, de preferência com alimentos.Em caso de insuficiência hepática ou renal moderada, a dose deve ser ajustada considerando a dose máxima de 16 mg/dia. \\uf0b7 Rivastigmina : iniciar com 3 mg/dia por via oral. A dose pode ser aumentada para 6 mg/dia após 2 semanas. Aumentos subsequentes para 9 mg/dia e para 12 mg/dia devem ser feitos de acordo com a tolerabilidade e após um intervalo de 2 semanas. As doses devem ser divididas em duas administrações, junto às refeições. É desnecessário realizar ajuste em casos de insuficiência hepática ou renal, mas deve -se ter cautela em caso de insuficiência hepática (administrar as menores doses possíveis). No uso de adesivos transdérmicos, inicia -se com a apresentação de 5 cm2 durante por pelo menos 4 semanas de tratamento. Havendo boa tolerância do paciente após este período de tratamento,12 o adesivo deve passar para o de 10 cm2, que traz a dose considerada efetiva. Aplica -se um adesivo a cada 24 horas em um dos lados da parte superior do braço, do pe ito ou da parte superior ou inferior das costas. Caso o paciente não tolere o uso do adesivo de 10 cm2, outra alternativa terapêutica deve ser buscada pelo médico assistente .', 'metadata': {'source': 'Doença de Alzheimer', 'topic': 'ESQUEMAS DE ADMINISTRAÇÃO'}}, {'topic_content': 'query: Protocolo Clínico e Diretrizes Terapêuticas (PCDT) de Doença de Alzheimer. ESQUEMAS DE ADMINISTRAÇÃO. Caso o paciente não tolere o uso do adesivo de 10 cm2, outra alternativa terapêutica deve ser buscada pelo médico assistente . Pacientes tratados com rivastigmina por via oral podem ser transferidos para o t ratamento com adesivos transdérmicos da seguinte forma: Os que estão recebendo uma dose menor de 6 mg/dia de rivast igmina oral podem migrar para o adesivo de 5 cm2 e, após 4 semanas de uso, passar para o de 10 cm2, em caso de boa tolerância; já os que estã o recebendo uma dose de 6 -12mg/dia de rivastigmina por via oral podem migrar diretamente para o adesivo de 10 cm2. A aplicação do primeiro adesivo deve ser feita um dia após a última dose oral. \\uf0b7 Memantina: iniciar com 5 mg/dia por via oral (1/2 comprimido), aumentar 5 mg/semana nas 3 semanas subsequentes até chegar à dose de 20 mg/dia (1 comprimido de 10mg duas vezes por dia) na quarta semana e manter esta dose.', 'metadata': {'source': 'Doença de Alzheimer', 'topic': 'ESQUEMAS DE ADMINISTRAÇÃO'}}], [{'topic_content': 'query: Protocolo Clínico e Diretrizes Terapêuticas (PCDT) de Doença de Alzheimer. TEMPO DE TRATAMENTO - CRITÉRIOS DE INTERRU PÇÃO 6.3.1 Para inibidores da acetilcolinesterase (donepezila, galantamina e rivastigmina) O tratamento deve ser suspenso em quatro situações distintas: \\uf0b7 Após 3 -4 meses do início do tratamento, não se observando melhora ou estabilização da deterioração do quadro à reavaliação (por falta de benefício); \\uf0b7 mesmo que os pacientes estejam em tratamento contínuo , este deve ser mantido apenas enquanto o MEEM estiver acima de 12 para pacientes com mais de 4 anos de escolar idade e acima de 8 para pacientes com menos de 4 anos de escolaridade, abaixo do que não há qualquer evidência de benefício; \\uf0b7 de forma semelhante, somente devem ser mantidos em tratamento os pacientes com Escala CDR igual ou abaixo de 2 ; e \\uf0b7 em casos de into lerância ao medicamento, situação em que pode -se substituir um medicamento por outro. 6.3.2Paramemantina O tratamento deve ser suspenso em três situações distintas: \\uf0b7 Após 3 -4 meses do início do tratamento, não havendo melhora ou estabilização da deterioraç ão do quadro à reavaliação (por falta de benefício); \\uf0b7 declínio dos escores do MEEM para menos de 3 pontos (escolaridade ≤ 4 anos de estudo) ou para menos de 5 pontos (escolaridade > 4 anos de estudo) nas reavaliações; e13 \\uf0b7 em casos de intolerância ao medicamen to.', 'metadata': {'source': 'Doença de Alzheimer', 'topic': 'TEMPO DE TRATAMENTO'}}], [{'topic_content': 'query: Protocolo Clínico e Diretrizes Terapêuticas (PCDT) de Doença de Alzheimer. BENEFÍCIOS ESPERADOS \\uf0b7 Redução na velocidade de progressão da doença \\uf0b7 Melhora da memória e da atenção 7.', 'metadata': {'source': 'Doença de Alzheimer', 'topic': 'BENEFÍCIOS ESPERADOS'}}], [{'topic_content': 'query: Protocolo Clínico e Diretrizes Terapêuticas (PCDT) de Doença de Alzheimer. MONITORIZAÇÃO Após 3 a 4 meses do início do tratamento, o paciente deve ser submetido a uma reavaliação. Após esse período, ela deve ocorrer a cada 6 meses, para estimar o benefício e a necessidade de continuidade do tratamento pela avaliação clínica e aplic ação do MEEM e da Escala CDR. Os efeitos adversos mais comuns da donepezila incluem insônia, náusea, vômito s, diarreia, anorexia, dispepsia, cãibras musculares e fad iga. Menos comumente podem ocorrer cefaleia, sonolência, tontura, depressão, perda de peso, sonhos anormais, aumento da frequência urinária, síncope, bradicardia, artrite e equimoses. Como a donepezila é metabolizada por enzimas hepáticas, a taxa do metabolismo pode ser aumentada por medicamentos que elevam a quantidade dessas enzimas, como a carbamazep ina, dexametasona, fenobarbital, fenitoína e rifampicina. Ao aumentar sua eliminação, esses fármacos podem reduzir os efeitos da donepezila. O cetoconazol mostrou bloquear as enzimas hepáticas que metabolizam a donepezila. Desta forma, o uso concomitante d e cetoconazol e donepezila pode resultar no aumento da concentração de donepezila e, possivelmente, levar à maior ocorrência de efeitos adversos. A quinidina também demonstrou inibir as enzimas que metabolizam a donepezila , podendo piorar , assim, o perfil de seus efeitos adversos. A donepezila d eve serusada com cautela em indivíduos com anormalidades supraventriculares da condução cardíaca ou naqueles em uso de fármacos que reduzam significativamente a frequência cardíaca, com história de convulsão de asma ou DPOC e com risco de úlcera.', 'metadata': {'source': 'Doença de Alzheimer', 'topic': 'MONITORIZAÇÃO'}}, {'topic_content': 'query: Protocolo Clínico e Diretrizes Terapêuticas (PCDT) de Doença de Alzheimer. MONITORIZAÇÃO. A donepezila d eve serusada com cautela em indivíduos com anormalidades supraventriculares da condução cardíaca ou naqueles em uso de fármacos que reduzam significativamente a frequência cardíaca, com história de convulsão de asma ou DPOC e com risco de úlcera. Os efeitos adversos mais comuns da galantamina incluem náusea, vômito s, diarreia, anorexia, perda de peso, dor abdominal, dispepsia, flatulência, tontura, cefaleia, depressão, fadiga, insônia e sonolência. Menos comuns são in fecção do trato urinário, hematúria, incontinência, anemia, tremor, rinite e aumento da fosfatase alcalina. Devem ser monitorizadas as funções renal (creatinina) e hepática (ALT /TGP e AST /TGO ). A succinilcolina aumenta o bloqueio neuromuscular. Agentes col inérgicos podem apresentar efeitos sinérgicos. Inibidores centrais da acetilcolinesterase podem aumentar o risco de sintomas piramidais relacionados aos antipsicóticos. A galantamina deve ser usada com cautela em pacientes14 com atraso da condução cardíaca ou em uso de fármacos que atrasam a condução no nodo AS ou AV, com história de úlcera péptica, convulsão, doenças respiratórias graves e obstrução urinária. Os efeitos mais comuns da rivastigmina incluem tontura, cefaleia, náusea, vômito s, diarreia, anorex ia, fadiga, insônia, confusão e dor abdominal. Menos comumente podem ocorrer depressão, ansiedade, sonolência, alucinações, síncope, hipertensão, dispepsia, constipação, flatulência, perda de peso, infecção do trato urinário, fraqueza, tremor, angina, úlce ra gástrica ou duodenal e erupções cutâneas.', 'metadata': {'source': 'Doença de Alzheimer', 'topic': 'MONITORIZAÇÃO'}}, {'topic_content': 'query: Protocolo Clínico e Diretrizes Terapêuticas (PCDT) de Doença de Alzheimer. MONITORIZAÇÃO. Menos comumente podem ocorrer depressão, ansiedade, sonolência, alucinações, síncope, hipertensão, dispepsia, constipação, flatulência, perda de peso, infecção do trato urinário, fraqueza, tremor, angina, úlce ra gástrica ou duodenal e erupções cutâneas. A rivastigmina deve ser usada com precaução em pacientes com úlcera péptica, história de convulsão, alterações da condução cardíaca e asma. Os efeitos adversos mais comuns da memantina incluem cefaleia, cansaço e tontura. Os menos frequentes incluem alucinações, alterações de marcha, anorexia, ansiedade, artralgia, bronquite, cistite, constipação, diarre ia, confusão, dor lombar, edema periférico, hipertensão, hipertonia, infecção de trato respiratório, ins ônia, aumento da libido, náusea , queda, sonolência e vômito s. 8. REGULAÇÃO /CONTROLE /AVALIAÇÃO PELO GESTO R Para o diagnóstico da doença, o s pacientes com suspeita de DA devem ser encaminhados para serviço especializado em neurologia, geriatria ou psiquiatria , ou para atendimento por m édico com treinamento na avaliação de quadros deme nciais. Devem ser observados os critérios de inclus ão e exc lusão de doentes neste P rotocolo, a duração e a monitorização do tratamento, bem como a verificação periódica das doses prescritas e dispensadas e a adequação de uso dos medicamentos. Para dispensação dos medicamentos, é necessário relatório médico com des crição da apresentação da doença, evolução, sintomas neuropsiquiátricos apresentados e medicamentos prescrito s com suas respectivas posologias . Verificar na Relação Nacional de Medicamentos Essenciais (RENAME) vigente em qual componente da Assistência Farmacêutica se encontram os medicamentos preconizados neste Protocolo.', 'metadata': {'source': 'Doença de Alzheimer', 'topic': 'MONITORIZAÇÃO'}}, {'topic_content': 'query: Protocolo Clínico e Diretrizes Terapêuticas (PCDT) de Doença de Alzheimer. MONITORIZAÇÃO. Verificar na Relação Nacional de Medicamentos Essenciais (RENAME) vigente em qual componente da Assistência Farmacêutica se encontram os medicamentos preconizados neste Protocolo. TERMO DE ESCLARECIMEN TO E RESPONSABILIDAD E - TER Deve -se informar ao paciente, ou seu responsável legal, sobre os potenciais riscos, benefícios e efeitos adversos relacionados ao uso dos medicamentos preconizados neste Protocolo, levando -se em consideração as informações contidas no TER .', 'metadata': {'source': 'Doença de Alzheimer', 'topic': 'MONITORIZAÇÃO'}}]] ...\n"
     ]
    }
   ],
   "source": [
    "# Identificar a posição de início de cada tópico no PCDT\n",
    "def localizar_topicos(texto_pcdt):\n",
    "        # Armazena o dicionário contendo {\"nome_topico\": \"posição_início\"}\n",
    "        posicao_titulos = {}\n",
    "\n",
    "        for nome_titulo in titulo_topicos:\n",
    "            match = re.search(nome_titulo, texto_pcdt)\n",
    "            if match:\n",
    "                posicao_titulos[nome_titulo] = match.start()\n",
    "\n",
    "        # Ordena a posição dos topicos conforme a sequência lógica dos PCDTs\n",
    "        posicao_titulos = dict(sorted(posicao_titulos.items(), key=lambda x: x[1]))\n",
    "\n",
    "        return posicao_titulos\n",
    "        \n",
    "\n",
    "# Contar a quantidade de tokens em cada frase\n",
    "def contar_tokens(frase):\n",
    "    # Instanciar o tokenizer do modelo\n",
    "    tokenizer = AutoTokenizer.from_pretrained(diretorio_cache_modelo+\"intfloat_multilingual-e5-large\")\n",
    "    tokens = tokenizer(frase)\n",
    "    quantidade_tokens = len(tokens[\"input_ids\"])\n",
    "\n",
    "    return quantidade_tokens\n",
    "\n",
    "\n",
    "# Montar a estutura com o texto e os metadados do embedding\n",
    "def montar_embedding(nome_pcdt, texto_embedding, lista_embedding_topico, frases_sobreposicao, nome_topico):\n",
    "    texto_embedding_string = \" \".join(texto_embedding)\n",
    "\n",
    "    # Verifica se é o primeiro embedding do tópico para personalizar o texto do embedding\n",
    "    if len(lista_embedding_topico) > 0:\n",
    "        embedding = {\n",
    "            \"topic_content\": f\"query: Protocolo Clínico e Diretrizes Terapêuticas (PCDT) de {nome_pcdt}. {nome_topico}. {frases_sobreposicao} {texto_embedding_string}\",\n",
    "            \"metadata\": {\n",
    "                \"source\": nome_pcdt,\n",
    "                \"topic\": nome_topico\n",
    "            }\n",
    "        }\n",
    "    else: \n",
    "        embedding = {\n",
    "            \"topic_content\": f\"query: Protocolo Clínico e Diretrizes Terapêuticas (PCDT) de {nome_pcdt}. {texto_embedding_string}\",\n",
    "            \"metadata\": {\n",
    "                \"source\": nome_pcdt,\n",
    "                \"topic\": nome_topico\n",
    "            }\n",
    "        }\n",
    "\n",
    "    # Cria as frases que serão utilizadas posteriormente para sobreposição\n",
    "    frases_sobreposicao = texto_embedding[-sobreposicao_frases:]\n",
    "    frases_sobreposicao = \" \".join(frases_sobreposicao)\n",
    "\n",
    "    return embedding, frases_sobreposicao\n",
    "\n",
    "\n",
    "# Criar os embeddings a partir das frases extraídas do tópico\n",
    "def criar_embedding_topico(frases_com_tokens, nome_pcdt, nome_topico):\n",
    "    lista_embedding_topico = []\n",
    "    total_tokens_utilizados = 0\n",
    "    texto_embedding = []\n",
    "    frases_sobreposicao = \"\"\n",
    "\n",
    "    # Ajusta a quantidade máxima de tokens que o tópico poderá ter, tendo em vista os textos que serão adicionados em cada embedding\n",
    "    qtd_tokens_util = qtd_max_tokens - contar_tokens(f\"query: Protocolo Clínico e Diretrizes Terapêuticas (PCDT) de {nome_pcdt}. {nome_topico}.\")\n",
    "\n",
    "    for i, tupla in enumerate(frases_com_tokens):\n",
    "        frase, num_tokens = tupla\n",
    "\n",
    "        tokens_sobreposicao = contar_tokens(frases_sobreposicao)\n",
    "\n",
    "        # Verifica se a frase cabe no embedding\n",
    "        if num_tokens + tokens_sobreposicao + total_tokens_utilizados <= qtd_tokens_util:\n",
    "            texto_embedding.append(frase)\n",
    "            total_tokens_utilizados += num_tokens\n",
    "\n",
    "        # Se a frase não couber no embedding então o embedding é criado sem a frase atual\n",
    "        elif num_tokens + tokens_sobreposicao + total_tokens_utilizados > qtd_tokens_util:\n",
    "            embedding, frases_sobreposicao = montar_embedding(nome_pcdt, texto_embedding, lista_embedding_topico, frases_sobreposicao, nome_topico)                \n",
    "            lista_embedding_topico.append(embedding)\n",
    "\n",
    "            total_tokens_utilizados = num_tokens\n",
    "            texto_embedding = []\n",
    "            texto_embedding.append(frase)\n",
    "\n",
    "        # Se for a última frase do tópico então gera o embeddigng\n",
    "        if i == len(frases_com_tokens) - 1: \n",
    "            embedding, frases_sobreposicao = montar_embedding(nome_pcdt, texto_embedding, lista_embedding_topico, frases_sobreposicao, nome_topico) \n",
    "            lista_embedding_topico.append(embedding)\n",
    "\n",
    "    return lista_embedding_topico\n",
    "\n",
    "\n",
    "lista_embeddings = []\n",
    "\n",
    "# Iterar sobre os textos extraídos dos PDF\n",
    "for item_pcdt in texto_extraido:  \n",
    "\n",
    "    # Iterar sobre um PCDT\n",
    "    for nome_pcdt, texto_pcdt in item_pcdt.items():\n",
    "        topicos_localizados = localizar_topicos(texto_pcdt)\n",
    "\n",
    "        # Variável para receber o texto de cada tópico\n",
    "        texto_topicos = {}\n",
    "\n",
    "        # Iterar sobre um tópico de um PCDT\n",
    "        for i, (nome_topico, posicao_inicio) in enumerate(topicos_localizados.items()):  \n",
    "\n",
    "            # Tratamento para evitar erro no último tópico\n",
    "            if i + 1 < len(topicos_localizados):\n",
    "                inicio_proximo_topico = list(topicos_localizados.values())[i + 1]\n",
    "            else:\n",
    "                inicio_proximo_topico = len(texto_pcdt)\n",
    "\n",
    "            texto_topico = texto_pcdt[posicao_inicio:inicio_proximo_topico].strip()\n",
    "\n",
    "            # Quebrar o texto do tópico em frases\n",
    "            frases_topico = nltk.sent_tokenize(texto_topico)\n",
    "            frases_com_tokens = [(frase, contar_tokens(frase)) for frase in frases_topico]\n",
    "\n",
    "            # Remover as frases com menos de 15 caracteres\n",
    "            frases_com_tokens = [(frase, tamanho) for frase, tamanho in frases_com_tokens if tamanho >= 15]\n",
    "\n",
    "            embeddings_topico = criar_embedding_topico(frases_com_tokens, nome_pcdt, nome_topico)\n",
    "            lista_embeddings.append(embeddings_topico)\n",
    "\n",
    "# Textos truncados com 250 caracteres para preservar a visualização do notebook\n",
    "print(f\"{lista_embeddings[:250]} ...\")\n"
   ]
  },
  {
   "cell_type": "markdown",
   "metadata": {},
   "source": [
    "# Criar strings para indexação"
   ]
  },
  {
   "cell_type": "markdown",
   "metadata": {},
   "source": [
    "# Indexar textos"
   ]
  },
  {
   "cell_type": "code",
   "execution_count": 7,
   "metadata": {},
   "outputs": [
    {
     "name": "stdout",
     "output_type": "stream",
     "text": [
      "load INSTRUCTOR_Transformer\n",
      "max_seq_length  512\n",
      "Textos vetorizados.\n"
     ]
    }
   ],
   "source": [
    "# Indexar os textos no vector store\n",
    "os.environ[\"TOKENIZERS_PARALLELISM\"] = \"true\"\n",
    "modelo_embedding = HuggingFaceInstructEmbeddings(model_name=modelo, cache_folder=diretorio_cache_modelo)\n",
    "vectorstore = FAISS.from_texts(texts=[dic['topic_content'] for sublist in lista_embeddings for dic in sublist], embedding=modelo_embedding, metadatas=[dic['metadata'] for sublist in lista_embeddings for dic in sublist])\n",
    "\n",
    "print(\"Textos vetorizados.\")"
   ]
  },
  {
   "cell_type": "markdown",
   "metadata": {},
   "source": [
    "# Testar embeddings"
   ]
  },
  {
   "cell_type": "code",
   "execution_count": 41,
   "metadata": {},
   "outputs": [
    {
     "name": "stdout",
     "output_type": "stream",
     "text": [
      "Pergunta: Quais são os critérios de inclusão do PCDT de Doença de Alzheimer\n",
      "\t1) Score: 0.15820 - PCDT: Doença de Alzheimer - Tópico: BENEFÍCIOS ESPERADOS\n",
      "\t2) Score: 0.17904 - PCDT: Doença de Alzheimer - Tópico: CRITÉRIOS DE INCLUSÃO\n",
      "\t3) Score: 0.18139 - PCDT: Doença de Alzheimer - Tópico: CRITÉRIOS DE INCLUSÃO\n",
      "\t4) Score: 0.19642 - PCDT: Doença de Alzheimer - Tópico: MONITORIZAÇÃO\n",
      "\t5) Score: 0.20267 - PCDT: Doença de Alzheimer - Tópico: DIAGNÓSTICO\n",
      "\n",
      "Pergunta: Quais são os critérios de exclusão do PCDT de Síndrome de Turner?\n",
      "\t1) Score: 0.14940 - PCDT: Síndrome de Turner - Tópico: CRITÉRIOS DE EXCLUSÃO\n",
      "\t2) Score: 0.15241 - PCDT: Síndrome de Turner - Tópico: CRITÉRIOS DE INCLUSÃO\n",
      "\t3) Score: 0.18446 - PCDT: Síndrome de Turner - Tópico: INTRODUÇÃO\n",
      "\t4) Score: 0.19729 - PCDT: Síndrome de Turner - Tópico: DIAGNÓSTICO\n",
      "\t5) Score: 0.19762 - PCDT: Síndrome de Turner - Tópico: CLASSIFICAÇÃO ESTATÍSTICA INTERNACIONAL DE DOENÇAS\n",
      "\n",
      "Pergunta: Elenque para mim as etapas para o diagnóstico de um paciente com Síndrome de turner?\n",
      "\t1) Score: 0.20480 - PCDT: Síndrome de Turner - Tópico: INTRODUÇÃO\n",
      "\t2) Score: 0.20758 - PCDT: Síndrome de Turner - Tópico: CRITÉRIOS DE INCLUSÃO\n",
      "\t3) Score: 0.20854 - PCDT: Síndrome de Turner - Tópico: DIAGNÓSTICO\n",
      "\t4) Score: 0.21419 - PCDT: Síndrome de Turner - Tópico: TERMO DE ESCLARECIMENTO E RESPONSABILIDADE\n",
      "\t5) Score: 0.21942 - PCDT: Síndrome de Turner - Tópico: CLASSIFICAÇÃO ESTATÍSTICA INTERNACIONAL DE DOENÇAS\n",
      "\n"
     ]
    }
   ],
   "source": [
    "# Lista de perguntas para tese\n",
    "lista_query = []\n",
    "lista_query.append(\"Quais são os critérios de inclusão do PCDT de Doença de Alzheimer\")\n",
    "lista_query.append(\"Quais são os critérios de exclusão do PCDT de Síndrome de Turner?\")\n",
    "lista_query.append(\"Elenque para mim as etapas para o diagnóstico de um paciente com Síndrome de turner?\") #\n",
    "\n",
    "# Adequar as perguntas para o padrão de treinamento do modelo\n",
    "lista_query_prefix = []\n",
    "for query in lista_query:\n",
    "    lista_query_prefix.append(\"query: \"+ query)\n",
    "   \n",
    "# Visualizar o resultado\n",
    "for i, query in enumerate(lista_query_prefix):\n",
    "    print(f\"Pergunta: {lista_query[i]}\")\n",
    "    docs_scores = vectorstore.similarity_search_with_score(query, k=5)\n",
    "    lista_docs_ordenada = sorted(docs_scores, key=lambda x: x[1])\n",
    "\n",
    "    for i, _ in enumerate(lista_docs_ordenada): \n",
    "        print(f\"\\t{i+1}) Score: {lista_docs_ordenada[i][1]:.5f} - PCDT: {lista_docs_ordenada[i][0].metadata['source']} - Tópico: {lista_docs_ordenada[i][0].metadata['topic']}\")\n",
    "    print(\"\")"
   ]
  },
  {
   "cell_type": "markdown",
   "metadata": {},
   "source": [
    "# Salvar vector store"
   ]
  },
  {
   "cell_type": "code",
   "execution_count": 43,
   "metadata": {},
   "outputs": [
    {
     "name": "stdout",
     "output_type": "stream",
     "text": [
      "Vector store salvo em disco!\n",
      "Vector store carregado!\n"
     ]
    }
   ],
   "source": [
    "# Salvar o vector store em um arquivo\n",
    "path_vectorstore = './vectorstore/pcdt.index'\n",
    "vectorstore.save_local(path_vectorstore)\n",
    "\n",
    "print(\"Vector store salvo em disco!\")\n",
    "\n",
    "# Recarregar o vectostore\n",
    "vectorstore = FAISS.load_local(path_vectorstore, modelo_embedding)\n",
    "print(\"Vector store carregado!\")"
   ]
  }
 ],
 "metadata": {
  "kernelspec": {
   "display_name": "base",
   "language": "python",
   "name": "python3"
  },
  "language_info": {
   "codemirror_mode": {
    "name": "ipython",
    "version": 3
   },
   "file_extension": ".py",
   "mimetype": "text/x-python",
   "name": "python",
   "nbconvert_exporter": "python",
   "pygments_lexer": "ipython3",
   "version": "3.10.11"
  },
  "orig_nbformat": 4
 },
 "nbformat": 4,
 "nbformat_minor": 2
}
